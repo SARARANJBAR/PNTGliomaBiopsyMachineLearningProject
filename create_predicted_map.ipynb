{
 "cells": [
  {
   "cell_type": "code",
   "execution_count": null,
   "id": "2ce4cc5c",
   "metadata": {},
   "outputs": [],
   "source": [
    "import os\n",
    "import pickle\n",
    "import joblib\n",
    "import SimpleITK as sitk\n",
    "import pandas as pd\n",
    "import numpy as np\n",
    "import time\n",
    "import tqdm"
   ]
  },
  {
   "cell_type": "markdown",
   "id": "bf263f9d",
   "metadata": {},
   "source": [
    "### utility functions"
   ]
  },
  {
   "cell_type": "code",
   "execution_count": null,
   "id": "de238b4e",
   "metadata": {},
   "outputs": [],
   "source": [
    "def generate_map(inputcsvpath, modelpath, path_to_ref_stkimg, output_dir):\n",
    "    \n",
    "    # get predicted csv file\n",
    "    casename = os.path.basename(inputcsvpath)\n",
    "    output_csvpath = os.path.join(output_dir, casename + '_predictedVals.csv')\n",
    "    \n",
    "    if not os.path.exists(output_csvpath):\n",
    "        preds_df = generate_predictions(inputcsvpath, modelpath, output_dir)\n",
    "        preds_df.to_csv(output_csvpath, index=False) # save to file\n",
    "    else:\n",
    "        print(output_csvpath, 'exists')\n",
    "        preds_df = pd.read_csv(output_csvpath)\n",
    "    \n",
    "    # save predicted image\n",
    "    output_mappath = os.path.join(output_dir, casename + '_predictedMap.nii.gz')\n",
    "    if not os.path.exists(output_mappath):\n",
    "        pred_stk = get_stkimg_from_csvfile(preds_df, path_to_ref_stkimg)\n",
    "        sitk.WriteImage(pred_stk, output_mappath)\n",
    "    else:\n",
    "        print(output_mappath, 'exists')\n",
    "\n",
    "def get_stkimg_from_df(df, path_to_reference_img):\n",
    "    \n",
    "    #load reference image\n",
    "    print('-- loading referece img ')\n",
    "    ref_stkimg = sitk.ReadImage(path_to_reference_img)\n",
    "    refarr = sitk.GetArrayFromImage(ref_stkimg).T\n",
    "    imshape = refarr.shape\n",
    "    print('ref img', refarr.shape)\n",
    "\n",
    "    print('--create prediction image..')\n",
    "    if df.shape[0] == imshape[0] * imshape[1] * imshape[2]:\n",
    "\n",
    "        vals = df['prediction'].values\n",
    "        im = np.array(vals + 1.0).astype('I').reshape(refarr.shape)\n",
    "\n",
    "    else:\n",
    "        im = np.zeros(refarr.shape)\n",
    "        indices = list(df.index.values)\n",
    "        time.sleep(2.01)\n",
    "        for i in tqdm.tqdm(range(len(indices))):\n",
    "            x, y, z = [int(a) for a in df.loc[indices[i], ['x', 'y', 'z']].values]\n",
    "            val = float(df.loc[indices[i], 'prediction']) +1\n",
    "            im[x, y, z] = val\n",
    "\n",
    "    stkimg = sitk.GetImageFromArray(im.T)\n",
    "    stkimg.CopyInformation(ref_stkimg)\n",
    "\n",
    "    return stkimg\n",
    "\n",
    "def generate_predictions(df, model_features, model):\n",
    "    \n",
    "    preds = model.predict(df[model_features].values)\n",
    "    print(preds)\n",
    "    \n",
    "    # report in df format\n",
    "    pred_df = pd.DataFrame(index=df.index.values)\n",
    "    pred_df['prediction'] = preds[:,1]\n",
    "    for col in ['x', 'y', 'z']:\n",
    "        pred_df[col] = df[col].values\n",
    "    \n",
    "    return pred_df"
   ]
  },
  {
   "cell_type": "code",
   "execution_count": null,
   "id": "bfdf6eaf",
   "metadata": {},
   "outputs": [],
   "source": [
    "# paths \n",
    "input_dir = os.getcwd() \n",
    "testcase_dir = os.path.join(input_dir, 'testcases')\n",
    "model_dir = os.path.join(input_dir, foldername, sex, 'trained_models')\n",
    "output_dir = testcase_dir"
   ]
  },
  {
   "cell_type": "code",
   "execution_count": null,
   "id": "973d7349",
   "metadata": {},
   "outputs": [],
   "source": [
    "# load model object \n",
    "modelname = 'rfr_gl_Mes-gl_PN' \n",
    "modelpath = os.path.join(model_dir, model_name + '.sav')\n",
    "model = pickle.load(open(modelname + '.sav', 'rb'))\n",
    "print(modelname, 'loaded')\n",
    "\n",
    "# load names of features that the model was trained on\n",
    "model_features = ['Enhancing','RCBV.Raw_Mean', 'RCBV.Raw_Std', 'FA.Raw_Std', \n",
    "                  'FA.Raw_Mean', 'MD.Raw_Mean', 'MD.Raw_Std', 'EPI.Raw_Mean', \n",
    "                  'EPI.Raw_Std', 'CenterFecsT2', 'MeanFecsT2', 'StdFecsT2']\n",
    "\n",
    "print ('%s takes %d features' % (model_name, len(model_features)))\n"
   ]
  },
  {
   "cell_type": "code",
   "execution_count": null,
   "id": "fe7968b0",
   "metadata": {},
   "outputs": [],
   "source": [
    "# load csv of test case\n",
    "testcase_name = 'MCH2868'\n",
    "testcase_csvpath = os.path.join(testcase_dir, 'MCH2868_features.csv')\n",
    "df = pd.read_csv(testcase_csvpath, low_memory=False)"
   ]
  },
  {
   "cell_type": "code",
   "execution_count": null,
   "id": "d41f0452",
   "metadata": {},
   "outputs": [],
   "source": [
    "# generate predictions\n",
    "pred_df = generate_predictions(df, model_features, model)\n",
    "\n",
    "# write to csv file\n",
    "output_csvpath = = os.path.join(testcase_dir, 'MCH2868_pred.csv')\n",
    "pred_df.to_csv(output_csvpath, index=False)\n",
    "\n",
    "# get predicted image\n",
    "pred_stk = get_stkimg_from_df(pred_df, 'T1Gd.nii.gz')\n",
    "\n",
    "# save image to file\n",
    "output_mappath = = os.path.join(testcase_dir, testcase_name + '_predictedMapp.nii.gz')\n",
    "sitk.WriteImage(pred_stk, output_mappath)"
   ]
  },
  {
   "cell_type": "code",
   "execution_count": null,
   "id": "54e9f902",
   "metadata": {},
   "outputs": [],
   "source": []
  }
 ],
 "metadata": {
  "kernelspec": {
   "display_name": "Python 3 (ipykernel)",
   "language": "python",
   "name": "python3"
  },
  "language_info": {
   "codemirror_mode": {
    "name": "ipython",
    "version": 3
   },
   "file_extension": ".py",
   "mimetype": "text/x-python",
   "name": "python",
   "nbconvert_exporter": "python",
   "pygments_lexer": "ipython3",
   "version": "3.9.7"
  }
 },
 "nbformat": 4,
 "nbformat_minor": 5
}
